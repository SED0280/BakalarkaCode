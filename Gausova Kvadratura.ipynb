{
 "cells": [
  {
   "cell_type": "markdown",
   "metadata": {},
   "source": [
    "# Gausova Kvadratura a Legendrovy polynomy"
   ]
  },
  {
   "cell_type": "code",
   "execution_count": 21,
   "metadata": {},
   "outputs": [
    {
     "name": "stdout",
     "output_type": "stream",
     "text": [
      "0.0 + 0.0 P_1(x) + 0.0 P_2(x) + 0.0 P_3(x) + 0.0 P_4(x) + 1.0 P_5(x)\n",
      "[-9.06179846e-01 -5.38469310e-01 -2.88799790e-17  5.38469310e-01\n",
      "  9.06179846e-01]\n"
     ]
    }
   ],
   "source": [
    "import numpy as np\n",
    "\n",
    "leg = np.polynomial.legendre.Legendre([0, 0, 0, 0, 0, 1])\n",
    "print(leg)\n",
    "roots = leg.roots()\n",
    "for i in range(5):\n",
    "    if(roots[i] < -1 or roots[i] > 1):\n",
    "        roots.remove(i)\n",
    "print(roots)\n"
   ]
  },
  {
   "cell_type": "code",
   "execution_count": 22,
   "metadata": {},
   "outputs": [
    {
     "name": "stdout",
     "output_type": "stream",
     "text": [
      "<function <lambda> at 0x0000024BA1CEBEC0>\n"
     ]
    },
    {
     "data": {
      "text/plain": [
       "array([-9.06179846e-01, -5.38469310e-01,  4.86961952e-39,  5.38469310e-01,\n",
       "        9.06179846e-01])"
      ]
     },
     "execution_count": 22,
     "metadata": {},
     "output_type": "execute_result"
    }
   ],
   "source": [
    "import scipy.optimize as spo\n",
    "P5 = lambda x: (63/8)*x**5 - (70/8)*x**3 + (15/8)*x\n",
    "print(P5)\n",
    "spo.fsolve(P5, [-0.9,-0.5,-2.88799790e-17,5.38e-01,9.0e-01])"
   ]
  },
  {
   "cell_type": "code",
   "execution_count": 23,
   "metadata": {},
   "outputs": [
    {
     "name": "stdout",
     "output_type": "stream",
     "text": [
      "-4.6629367034256575e-15\n",
      "-8.881784197001252e-16\n",
      "-5.4149960610680896e-17\n",
      "-4.440892098500626e-16\n",
      "5.329070518200751e-15\n"
     ]
    }
   ],
   "source": [
    "for x in roots:\n",
    "    print(P5(x))"
   ]
  },
  {
   "cell_type": "code",
   "execution_count": null,
   "metadata": {},
   "outputs": [],
   "source": []
  }
 ],
 "metadata": {
  "kernelspec": {
   "display_name": "base",
   "language": "python",
   "name": "python3"
  },
  "language_info": {
   "codemirror_mode": {
    "name": "ipython",
    "version": 3
   },
   "file_extension": ".py",
   "mimetype": "text/x-python",
   "name": "python",
   "nbconvert_exporter": "python",
   "pygments_lexer": "ipython3",
   "version": "3.11.5"
  }
 },
 "nbformat": 4,
 "nbformat_minor": 2
}
