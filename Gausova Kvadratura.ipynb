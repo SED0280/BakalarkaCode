{
 "cells": [
  {
   "cell_type": "markdown",
   "metadata": {},
   "source": [
    "# Gausova Kvadratura a Legendrovy polynomy"
   ]
  },
  {
   "cell_type": "code",
   "execution_count": 1,
   "metadata": {},
   "outputs": [
    {
     "name": "stdout",
     "output_type": "stream",
     "text": [
      "0.0 + 0.0 P_1(x) + 0.0 P_2(x) + 0.0 P_3(x) + 0.0 P_4(x) + 1.0 P_5(x)\n",
      "[-9.06179846e-01 -5.38469310e-01 -2.88799790e-17  5.38469310e-01\n",
      "  9.06179846e-01]\n"
     ]
    }
   ],
   "source": [
    "import numpy as np\n",
    "\n",
    "leg = np.polynomial.legendre.Legendre([0, 0, 0, 0, 0, 1])\n",
    "print(leg)\n",
    "roots = leg.roots()\n",
    "for i in range(5):\n",
    "    if(roots[i] < -1 or roots[i] > 1):\n",
    "        roots.remove(i)\n",
    "print(roots)"
   ]
  },
  {
   "cell_type": "code",
   "execution_count": null,
   "metadata": {},
   "outputs": [],
   "source": [
    "a=5"
   ]
  },
  {
   "cell_type": "markdown",
   "metadata": {},
   "source": [
    "Im changinfg something"
   ]
  },
  {
   "cell_type": "code",
   "execution_count": 2,
   "metadata": {},
   "outputs": [
    {
     "name": "stdout",
     "output_type": "stream",
     "text": [
      "    5       3       \n",
      "63⋅x    35⋅x    15⋅x\n",
      "───── - ───── + ────\n",
      "  8       4      8  \n",
      "[0, -sqrt(5/9 - 2*sqrt(70)/63), sqrt(5/9 - 2*sqrt(70)/63), -sqrt(2*sqrt(70)/63 + 5/9), sqrt(2*sqrt(70)/63 + 5/9)]\n"
     ]
    }
   ],
   "source": [
    "import sympy as sp\n",
    "\n",
    "x = sp.Symbol('x')\n",
    "legs = sp.legendre(5, x)\n",
    "sp.pprint(legs)\n",
    "legs = sp.solve(legs)\n",
    "print(legs)"
   ]
  },
  {
   "cell_type": "code",
   "execution_count": 4,
   "metadata": {},
   "outputs": [
    {
     "name": "stdout",
     "output_type": "stream",
     "text": [
      "<function <lambda> at 0x0000017FCF382B60>\n"
     ]
    },
    {
     "data": {
      "text/plain": [
       "array([-9.06179846e-01, -5.38469310e-01,  4.86961952e-39,  5.38469310e-01,\n",
       "        9.06179846e-01])"
      ]
     },
     "execution_count": 4,
     "metadata": {},
     "output_type": "execute_result"
    }
   ],
   "source": [
    "import scipy.optimize as spo\n",
    "P5 = lambda x: (63/8)*x**5 - (70/8)*x**3 + (15/8)*x\n",
    "print(P5)\n",
    "spo.fsolve(P5, [-0.9,-0.5,-2.88799790e-17,5.38e-01,9.0e-01])"
   ]
  }
 ],
 "metadata": {
  "kernelspec": {
   "display_name": "base",
   "language": "python",
   "name": "python3"
  },
  "language_info": {
   "codemirror_mode": {
    "name": "ipython",
    "version": 3
   },
   "file_extension": ".py",
   "mimetype": "text/x-python",
   "name": "python",
   "nbconvert_exporter": "python",
   "pygments_lexer": "ipython3",
   "version": "3.11.5"
  }
 },
 "nbformat": 4,
 "nbformat_minor": 2
}
