{
 "cells": [
  {
   "cell_type": "code",
   "execution_count": 1,
   "metadata": {},
   "outputs": [
    {
     "name": "stdout",
     "output_type": "stream",
     "text": [
      "0.0 + 0.0 P_1(x) + 0.0 P_2(x) + 0.0 P_3(x) + 0.0 P_4(x) + 1.0 P_5(x)\n",
      "[-9.06179846e-01 -5.38469310e-01 -2.88799790e-17  5.38469310e-01\n",
      "  9.06179846e-01]\n"
     ]
    }
   ],
   "source": [
    "import numpy as np\n",
    "\n",
    "leg = np.polynomial.legendre.Legendre([0, 0, 0, 0, 0, 1])\n",
    "print(leg)\n",
    "roots = leg.roots()\n",
    "print(roots)\n"
   ]
  },
  {
   "cell_type": "code",
   "execution_count": 2,
   "metadata": {},
   "outputs": [
    {
     "name": "stdout",
     "output_type": "stream",
     "text": [
      "<function <lambda> at 0x0000018291E4E520>\n"
     ]
    },
    {
     "data": {
      "text/plain": [
       "array([-9.06179846e-01, -5.38469310e-01,  4.86961952e-39,  5.38469310e-01,\n",
       "        9.06179846e-01])"
      ]
     },
     "execution_count": 2,
     "metadata": {},
     "output_type": "execute_result"
    }
   ],
   "source": [
    "import scipy.optimize as spo\n",
    "P5 = lambda x: (63/8)*x**5 - (70/8)*x**3 + (15/8)*x\n",
    "print(P5)\n",
    "spo.fsolve(P5, [-0.9,-0.5,-2.88799790e-17,5.38e-01,9.0e-01])"
   ]
  },
  {
   "cell_type": "code",
   "execution_count": 3,
   "metadata": {},
   "outputs": [
    {
     "name": "stdout",
     "output_type": "stream",
     "text": [
      "-4.6629367034256575e-15\n",
      "-8.881784197001252e-16\n",
      "-5.4149960610680896e-17\n",
      "-4.440892098500626e-16\n",
      "5.329070518200751e-15\n"
     ]
    }
   ],
   "source": [
    "for x in roots:\n",
    "    print(P5(x))"
   ]
  },
  {
   "cell_type": "code",
   "execution_count": 4,
   "metadata": {},
   "outputs": [
    {
     "name": "stdout",
     "output_type": "stream",
     "text": [
      "[[ 1.00000000e+00  1.00000000e+00  1.00000000e+00  1.00000000e+00\n",
      "   1.00000000e+00]\n",
      " [-9.06179846e-01 -5.38469310e-01 -2.88799790e-17  5.38469310e-01\n",
      "   9.06179846e-01]\n",
      " [ 8.21161913e-01  2.89949198e-01  8.34053187e-34  2.89949198e-01\n",
      "   8.21161913e-01]\n",
      " [-7.44120376e-01 -1.56128745e-01 -2.40874385e-50  1.56128745e-01\n",
      "   7.44120376e-01]\n",
      " [ 6.74306888e-01  8.40705374e-02  6.95644718e-67  8.40705374e-02\n",
      "   6.74306888e-01]]\n"
     ]
    }
   ],
   "source": [
    "import numpy as np\n",
    "\n",
    "M = np.ones((5,5))\n",
    "for i in range(5):\n",
    "    for j in range(5):\n",
    "        M[i,j] = roots[j]**i\n",
    "print(M)"
   ]
  },
  {
   "cell_type": "code",
   "execution_count": 5,
   "metadata": {},
   "outputs": [
    {
     "name": "stdout",
     "output_type": "stream",
     "text": [
      "[2.         0.         0.66666667 0.         0.4       ]\n"
     ]
    }
   ],
   "source": [
    "import scipy.integrate as integ\n",
    "b = np.ones(5)\n",
    "for i in range(5):\n",
    "    b[i]= integ.quad(lambda x: x**i,-1,1)[0]\n",
    "print(b)"
   ]
  },
  {
   "cell_type": "code",
   "execution_count": 6,
   "metadata": {},
   "outputs": [
    {
     "name": "stdout",
     "output_type": "stream",
     "text": [
      "[0.23692689 0.47862867 0.56888889 0.47862867 0.23692689]\n"
     ]
    }
   ],
   "source": [
    "A = np.linalg.solve(M, b)\n",
    "print(A)"
   ]
  },
  {
   "cell_type": "code",
   "execution_count": 7,
   "metadata": {},
   "outputs": [
    {
     "name": "stdout",
     "output_type": "stream",
     "text": [
      "(29.200000000000003, 3.2418512319054576e-13)\n",
      "29.2\n"
     ]
    }
   ],
   "source": [
    "f = lambda x: x**4 * (x-2) + 3*x**2 + 14\n",
    "print(integ.quad(f, -1, 1))\n",
    "\n",
    "K = lambda f: A[0]*f(roots[0]) + A[1]*f(roots[1]) + A[2]*f(roots[2]) + A[3]*f(roots[3]) + A[4]*f(roots[4])\n",
    "print(K(f))\n"
   ]
  },
  {
   "cell_type": "code",
   "execution_count": 8,
   "metadata": {},
   "outputs": [
    {
     "name": "stdout",
     "output_type": "stream",
     "text": [
      "19.762626262626263\n",
      "-32.654970760234\n",
      "16.472416472416427\n",
      "-1.5800719748088163\n"
     ]
    }
   ],
   "source": [
    "import Kvadratury as kv\n",
    "w = kv.getWeights([1, 1.5, 2.1, 3.4])\n",
    "for a in w:\n",
    "    print(a)"
   ]
  },
  {
   "cell_type": "code",
   "execution_count": 9,
   "metadata": {},
   "outputs": [
    {
     "name": "stdout",
     "output_type": "stream",
     "text": [
      "1\n",
      "2\n",
      "3\n",
      "4\n",
      "5\n",
      "6\n",
      "7\n",
      "8\n",
      "9\n"
     ]
    }
   ],
   "source": [
    "for i in range(1,10):\n",
    "    print(i)"
   ]
  }
 ],
 "metadata": {
  "kernelspec": {
   "display_name": "base",
   "language": "python",
   "name": "python3"
  },
  "language_info": {
   "codemirror_mode": {
    "name": "ipython",
    "version": 3
   },
   "file_extension": ".py",
   "mimetype": "text/x-python",
   "name": "python",
   "nbconvert_exporter": "python",
   "pygments_lexer": "ipython3",
   "version": "3.11.5"
  }
 },
 "nbformat": 4,
 "nbformat_minor": 2
}
