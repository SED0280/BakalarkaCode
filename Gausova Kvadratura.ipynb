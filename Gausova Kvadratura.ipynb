{
 "cells": [
  {
   "cell_type": "markdown",
   "metadata": {},
   "source": [
    "# Gausova Kvadratura a Legendrovy polynomy"
   ]
  },
  {
   "cell_type": "code",
   "execution_count": 1,
   "metadata": {},
   "outputs": [
    {
     "name": "stdout",
     "output_type": "stream",
     "text": [
      "0.0 + 0.0 P_1(x) + 0.0 P_2(x) + 0.0 P_3(x) + 0.0 P_4(x) + 1.0 P_5(x)\n",
      "[-9.06179846e-01 -5.38469310e-01 -2.88799790e-17  5.38469310e-01\n",
      "  9.06179846e-01]\n"
     ]
    }
   ],
   "source": [
    "import numpy as np\n",
    "\n",
    "leg = np.polynomial.legendre.Legendre([0, 0, 0, 0, 0, 1])\n",
    "print(leg)\n",
    "roots = leg.roots()\n",
    "#for i in range(5):\n",
    "#    if(roots[i] > -0.001 and roots[i] < 0.001):\n",
    "#        roots[i] = 0\n",
    "print(roots)\n"
   ]
  },
  {
   "cell_type": "code",
   "execution_count": null,
   "metadata": {},
   "outputs": [],
   "source": [
    "import scipy.optimize as spo\n",
    "P5 = lambda x: (63/8)*x**5 - (70/8)*x**3 + (15/8)*x\n",
    "print(P5)\n",
    "spo.fsolve(P5, [-0.9,-0.5,-2.88799790e-17,5.38e-01,9.0e-01])"
   ]
  },
  {
   "cell_type": "code",
   "execution_count": null,
   "metadata": {},
   "outputs": [],
   "source": [
    "for x in roots:\n",
    "    print(P5(x))"
   ]
  },
  {
   "cell_type": "code",
   "execution_count": null,
   "metadata": {},
   "outputs": [],
   "source": [
    "import numpy as np\n",
    "\n",
    "M = np.ones((5,5))\n",
    "for i in range(5):\n",
    "    for j in range(5):\n",
    "        M[i,j] = roots[j]**i\n",
    "print(M)"
   ]
  },
  {
   "cell_type": "code",
   "execution_count": null,
   "metadata": {},
   "outputs": [],
   "source": [
    "import scipy.integrate as integ\n",
    "b = np.ones(5)\n",
    "for i in range(5):\n",
    "    b[i]= integ.quad(lambda x: x**i,-1,1)[0]\n",
    "print(b)"
   ]
  },
  {
   "cell_type": "code",
   "execution_count": null,
   "metadata": {},
   "outputs": [],
   "source": [
    "A = np.linalg.solve(M, b)\n",
    "print(A)"
   ]
  },
  {
   "cell_type": "code",
   "execution_count": null,
   "metadata": {},
   "outputs": [],
   "source": [
    "f = lambda x: x**4 * (x-2) + 3*x**2 + 14\n",
    "print(integ.quad(f, -1, 1))\n",
    "\n",
    "K = lambda f: A[0]*f(roots[0]) + A[1]*f(roots[1]) + A[2]*f(roots[2]) + A[3]*f(roots[3]) + A[4]*f(roots[4])\n",
    "print(K(f))\n"
   ]
  },
  {
   "cell_type": "code",
   "execution_count": null,
   "metadata": {},
   "outputs": [],
   "source": [
    "import Kvadratury as kv\n",
    "w = kv.getWeights([1, 1.5, 2.1, 3.4])\n",
    "for a in w:\n",
    "    print(a)"
   ]
  },
  {
   "cell_type": "code",
   "execution_count": null,
   "metadata": {},
   "outputs": [],
   "source": [
    "for i in range(1,10):\n",
    "    print(i)"
   ]
  },
  {
   "cell_type": "markdown",
   "metadata": {},
   "source": [
    "---"
   ]
  },
  {
   "cell_type": "markdown",
   "metadata": {},
   "source": [
    "for 6.1."
   ]
  },
  {
   "cell_type": "code",
   "execution_count": 13,
   "metadata": {},
   "outputs": [
    {
     "name": "stdout",
     "output_type": "stream",
     "text": [
      "(10,)\n",
      "(10, 10)\n"
     ]
    },
    {
     "data": {
      "text/plain": [
       "[<matplotlib.lines.Line2D at 0x212a2c4a950>]"
      ]
     },
     "execution_count": 13,
     "metadata": {},
     "output_type": "execute_result"
    },
    {
     "data": {
      "image/png": "[encoded data removed]",
      "text/plain": [
       "<Figure size 640x480 with 1 Axes>"
      ]
     },
     "metadata": {},
     "output_type": "display_data"
    }
   ],
   "source": [
    "import Kvadratury as kv\n",
    "from matplotlib import pyplot as plt\n",
    "n=10\n",
    "t = np.linspace(1, 20, n)\n",
    "print(t.shape)\n",
    "print(kv.generateLegendrePolynomials(t, n).shape)\n",
    "plt.plot(t, kv.generateLegendrePolynomials(t, 20)[9])"
   ]
  }
 ],
 "metadata": {
  "kernelspec": {
   "display_name": "base",
   "language": "python",
   "name": "python3"
  },
  "language_info": {
   "codemirror_mode": {
    "name": "ipython",
    "version": 3
   },
   "file_extension": ".py",
   "mimetype": "text/x-python",
   "name": "python",
   "nbconvert_exporter": "python",
   "pygments_lexer": "ipython3",
   "version": "3.11.5"
  }
 },
 "nbformat": 4,
 "nbformat_minor": 2
}
